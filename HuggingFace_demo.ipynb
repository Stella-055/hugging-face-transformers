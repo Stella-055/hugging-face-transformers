{
 "cells": [
  {
   "cell_type": "markdown",
   "metadata": {
    "id": "5VsOdRmXiFRe"
   },
   "source": [
    "# Installation"
   ]
  },
  {
   "cell_type": "code",
   "execution_count": null,
   "metadata": {
    "colab": {
     "base_uri": "https://localhost:8080/"
    },
    "id": "E2Dbpvb0EonJ",
    "outputId": "61a386de-6b55-4216-ebac-aab1d425590f"
   },
   "outputs": [],
   "source": [
    "!nvidia-smi"
   ]
  },
  {
   "cell_type": "code",
   "execution_count": null,
   "metadata": {
    "colab": {
     "base_uri": "https://localhost:8080/"
    },
    "id": "Rw2jv7_3h9z0",
    "outputId": "6e720a45-ae7a-4f2c-da38-3aaa39700817"
   },
   "outputs": [],
   "source": [
    "!pip install transformers"
   ]
  },
  {
   "cell_type": "markdown",
   "metadata": {
    "id": "-CI4pSXRiJny"
   },
   "source": [
    "# Hugging Face Tasks"
   ]
  },
  {
   "cell_type": "code",
   "execution_count": null,
   "metadata": {
    "id": "NeYQA_-XReUU"
   },
   "outputs": [],
   "source": [
    "from transformers import pipeline\n",
    "#---------------------------------------------------#\n",
    "#                     NLP TASKS                     #\n",
    "#---------------------------------------------------#\n",
    "\n",
    "'''\n",
    "1. Text Classification: Assigning a category to a piece of text.\n",
    "Sentiment Analysis\n",
    "Topic Classification\n",
    "Spam Detection '''\n",
    "\n",
    "classifier = pipeline(\"text-classification\")\n",
    "\n",
    "'''\n",
    "2. Token Classification: Assigning labels to individual tokens in a sequence.\n",
    "Named Entity Recognition (NER)\n",
    "Part-of-Speech Tagging\n",
    "'''\n",
    "\n",
    "token_classifier = pipeline(\"token-classification\")\n",
    "\n",
    "'''\n",
    "3. Question Answering: Extracting an answer from a given context based on a question.\n",
    "'''\n",
    "question_answerer = pipeline(\"question-answering\")\n",
    "\n",
    "'''\n",
    "4. Text Generation: Generating text based on a given prompt.\n",
    "Language Modeling\n",
    "Story Generation\n",
    "\n",
    "'''\n",
    "\n",
    "text_generator = pipeline(\"text-generation\")\n",
    "\n",
    "'''\n",
    "5. Summarization: Condensing long documents into shorter summaries.\n",
    "'''\n",
    "\n",
    "summarizer = pipeline(\"summarization\")\n",
    "\n",
    "'''\n",
    "Translation: Translating text from one language to another.\n",
    "'''\n",
    "\n",
    "translator = pipeline(\"translation\",\n",
    "                      model=\"Helsinki-NLP/opus-mt-en-fr\")\n",
    "\n",
    "'''\n",
    "6. Text2Text Generation: General-purpose text transformation, including summarization and translation.\n",
    "'''\n",
    "\n",
    "text2text_generator = pipeline(\"text2text-generation\")\n",
    "\n",
    "'''\n",
    "7. Fill-Mask: Predicting the masked token in a sequence.\n",
    "'''\n",
    "\n",
    "fill_mask = pipeline(\"fill-mask\")\n",
    "\n",
    "'''\n",
    "8. Feature Extraction: Extracting hidden states or features from text.\n",
    "'''\n",
    "\n",
    "feature_extractor = pipeline(\"feature-extraction\")\n",
    "\n",
    "'''\n",
    "9. Sentence Similarity: Measuring the similarity between two sentences.\n",
    "'''\n",
    "sentence_similarity = pipeline(\"sentence-similarity\")\n",
    "\n",
    "#---------------------------------------------------#\n",
    "#             Computer Vision TASKS                 #\n",
    "#---------------------------------------------------#\n",
    "\n",
    "'''\n",
    "1. Image Classification: Classifying the main content of an image.\n",
    "\n",
    "'''\n",
    "\n",
    "image_classifier = pipeline(\"image-classification\")\n",
    "\n",
    "'''\n",
    "2. Object Detection: Identifying objects within an image and their bounding boxes.\n",
    "'''\n",
    "\n",
    "object_detector = pipeline(\"object-detection\")\n",
    "\n",
    "'''\n",
    "3. Image Segmentation: Segmenting different parts of an image into classes.\n",
    "'''\n",
    "\n",
    "image_segmenter = pipeline(\"image-segmentation\")\n",
    "\n",
    "'''\n",
    "4. Image Generation: Generating images from textual descriptions (using DALL-E or similar models).\n",
    "'''\n",
    "\n",
    "#---------------------------------------------------#\n",
    "#             Speech Processing task#\n",
    "#---------------------------------------------------#\n",
    "\n",
    "'''\n",
    "1. utomatic Speech Recognition (ASR): Converting spoken language into text.\n",
    "'''\n",
    "\n",
    "speech_recognizer = pipeline(\"automatic-speech-recognition\")\n",
    "\n",
    "'''\n",
    "2. Speech Translation: Translating spoken language from one language to another.\n",
    "3. Audio Classification: Classifying audio signals into predefined categories.\n",
    "'''\n",
    "\n",
    "#---------------------------------------------------#\n",
    "#                   Multimodal TASKS                #\n",
    "#---------------------------------------------------#\n",
    "\n",
    "'''\n",
    "1. Image Captioning: Generating a textual description of an image.\n",
    "'''\n",
    "image_captioner = pipeline(\"image-to-text\")\n",
    "'''\n",
    "2. Visual Question Answering (VQA): Answering questions about the content of an image.\n",
    "'''\n",
    "\n",
    "#---------------------------------------------------#\n",
    "#                     Other TASKS                   #\n",
    "#---------------------------------------------------#\n",
    "'''\n",
    "1. Table Question Answering: Answering questions based on tabular data.\n",
    "'''\n",
    "table_qa = pipeline(\"table-question-answering\")\n",
    "\n",
    "'''\n",
    "2. Document Question Answering: Extracting answers from documents like PDFs.\n",
    "\n",
    "'''\n",
    "doc_qa = pipeline(\"document-question-answering\")\n",
    "'''\n",
    "3. Time Series Forecasting: Predicting future values in time series data (not directly supported in the main Transformers library but available through extensions).\n",
    "'''"
   ]
  },
  {
   "cell_type": "markdown",
   "metadata": {
    "id": "52VnyoTyJFY-"
   },
   "source": [
    "# NLP Tasks"
   ]
  },
  {
   "cell_type": "markdown",
   "metadata": {
    "id": "QtkS8DKevpNf"
   },
   "source": [
    "## Sentiment Analysis"
   ]
  },
  {
   "cell_type": "code",
   "execution_count": null,
   "metadata": {
    "colab": {
     "base_uri": "https://localhost:8080/"
    },
    "id": "OHJpXb2Z7oro",
    "outputId": "515de9ba-bb8e-4d70-beea-2247375706e7"
   },
   "outputs": [],
   "source": [
    "from transformers import pipeline\n",
    "\n",
    "classifier = pipeline(\"sentiment-analysis\")\n",
    "result = classifier(\"I was so not happy with the last Mission Impossible Movie\")\n",
    "print(result)\n"
   ]
  },
  {
   "cell_type": "code",
   "execution_count": null,
   "metadata": {
    "colab": {
     "base_uri": "https://localhost:8080/"
    },
    "id": "In6-RXuRoord",
    "outputId": "68af05df-088d-422e-adf7-25baf2c5c4c7"
   },
   "outputs": [],
   "source": [
    "pipeline(task = \"sentiment-analysis\")(\"I was confused with the Barbie Movie\")"
   ]
  },
  {
   "cell_type": "code",
   "execution_count": null,
   "metadata": {
    "colab": {
     "base_uri": "https://localhost:8080/"
    },
    "id": "lJYMyOWxnX93",
    "outputId": "6efc9d57-1173-456c-ae89-15a8588a51f0"
   },
   "outputs": [],
   "source": [
    "pipeline(task = \"sentiment-analysis\")\\\n",
    "                                      (\"Everyday lots of LLMs papers are published about LLMs Evlauation. \\\n",
    "                                      Lots of them Looks very Promising. \\\n",
    "                                      I am not sure if we CAN actually Evaluate LLMs. \\\n",
    "                                      There is still lots to do.\\\n",
    "                                      Don't you think?\")"
   ]
  },
  {
   "cell_type": "code",
   "execution_count": null,
   "metadata": {
    "colab": {
     "base_uri": "https://localhost:8080/",
     "height": 244,
     "referenced_widgets": [
      "f332207234cc4dee9976dc50c0bd921e",
      "f5776122a9b5490483b1c5b0be228b13",
      "f8085596adc5474c86b9a759f825184a",
      "4b30a4e7294c46b6a884e1c07274bdb0",
      "0502fbcf8ace4caebbb76018b62b72ee",
      "1058e6bd17e54e96a4077ed7ed1a8ec2",
      "80444dc393e84022a5a48ae11b2ed246",
      "44b85b2ace3747b3a05f4349eff580ed",
      "fea6ba4ca95941ddbef736ef41fd94a9",
      "1fdb0d95aaf34298ab95201a9ea57fd8",
      "762bffebf0954c27a7790c54558fa660",
      "458f74a7dd0a4d6da8e56851f9f94435",
      "5808652319464f4788f5c3c778727ba9",
      "e642d20d32c2414fbf5ed5e0a4297c69",
      "817aef2869ca49e994ee2ba81dc31d9b",
      "46efca6e70924be79815dabf119b82bb",
      "44a79aaca0ce4789a9fbf9467d47a397",
      "30ce62b19059405e8c0528afa7fdfd95",
      "4caa59c8d14a4c52b97b68857ab76b89",
      "ac4404a332274263b521eeddc8307bd5",
      "37eae1244f3c4cbf844be5c3c21cca72",
      "605ae78ebdc0458a8c3a70af2207c7dd",
      "0a6e63bdd31e47338f0010c85bfce172",
      "00c1766c72d44a8589e093fba15e9a05",
      "c7e95ac574cf44f8a1001cd7f37ffa41",
      "e1c4e766406f46038bde53b357581872",
      "361a074adc2a4e1f9cc1a9b245a21adc",
      "2e13cea600ed4e368e833b6033d0f116",
      "121455e8c5ab45a2b504db0d0fff816f",
      "0977654bddda4477895a20b8ee8ea37a",
      "5ee9809967f643a79c3b25182ee88f37",
      "eabcb33159ef4e34b700e29972524b16",
      "83b1b4172ad44f66bc66e2664daa8dc0",
      "4fc940fcb4c74c90a0972f508505596e",
      "b823d6ba87894e48ad59b6ed256a3973",
      "0f8d09987d1b40aab1d69c47531deb1f",
      "446418a1a12e40f189b8f9de9b6eca9e",
      "5ea94d96b6144fe8927eb64b39b6fc42",
      "c847c9a6f0b4445fbcae86a075e678b1",
      "2d66ecb3a7e04e8f89ea7a886ff335bd",
      "0a78b6b0edbc4071bd36e90edf3643b7",
      "92d29668aa9a4afea0bf285742e90c33",
      "031d352d346f428d913592e814b9f6e5",
      "470dae55816a4d9a87cda2bfdfabc06f",
      "22118cf20e37443f949e832756e27398",
      "50afdce3ced54deeae6971fab140c48f",
      "09203d91f4b04d0fa1a92fe8335bc10d",
      "f819d715ba4048989954a9f27a318ecc",
      "f77a4bd9dd8e4539a01f28e139ad114d",
      "c3e9dec84b594ed4bfc63444192a2178",
      "eba241d95a2e4fe7bcef443027b298a5",
      "f0874f7e6c8c4f0eb96f734b1258aff7",
      "71d36538ba7c4296807236df94f997a1",
      "879dacea2e434d99988647eb5b7e035e",
      "1626d2eedd254445b172529b775eb201",
      "f8b0ec3eb23f4569862ef87cd559eaec",
      "c2ac5b2d979042fa85115215026de6d5",
      "830973cb450244fe836bba26b70fd754",
      "dd94c8fa3dad4b91923a46ad7b744bef",
      "8757608bbe984dbf9ef3f1acbbf0ab29",
      "42e656fb6c954238b4bddbd43c0bea20",
      "4dc8cd07dc784f639328dbc489c0377e",
      "31a1efaea9ad40daa24f0de519b381be",
      "e0f0a9c806144f9d9231a8f51cda1104",
      "130a19b1d49c4e6daf365334b8904ddb",
      "a33fbfb6d95049a188c042fc64321002"
     ]
    },
    "id": "_J1xtm-wpY6J",
    "outputId": "5103a4c3-c5f7-4e40-ae98-269b032cdc08"
   },
   "outputs": [],
   "source": [
    "pipeline(task = \"sentiment-analysis\", model=\"facebook/bart-large-mnli\")\\\n",
    "                                      (\"Everyday lots of LLMs papers are published about LLMs Evlauation. \\\n",
    "                                      Lots of them Looks very Promising. \\\n",
    "                                      I am not sure if we CAN actually Evaluate LLMs. \\\n",
    "                                      There is still lots to do.\\\n",
    "                                      Don't you think?\")\n"
   ]
  },
  {
   "cell_type": "markdown",
   "metadata": {
    "id": "VrgPSaSgwXJh"
   },
   "source": [
    "### Batch Senteniment Analysis"
   ]
  },
  {
   "cell_type": "code",
   "execution_count": null,
   "metadata": {
    "colab": {
     "base_uri": "https://localhost:8080/"
    },
    "id": "SkUfS00hvahT",
    "outputId": "06425af7-4f70-4bb3-d0bd-ce5c855a79f4"
   },
   "outputs": [],
   "source": [
    "classifier = pipeline(task = \"sentiment-analysis\")\n",
    "\n",
    "task_list = [\"I really like Autoencoders, best models for Anomaly Detection\", \\\n",
    "            \"I am not sure if we CAN actually Evaluate LLMs.\", \\\n",
    "            \"PassiveAgressive is the name of a Linear Regression Model that so many people do not know.\",\\\n",
    "            \"I hate long Meetings.\"]\n",
    "classifier(task_list)"
   ]
  },
  {
   "cell_type": "code",
   "execution_count": null,
   "metadata": {
    "colab": {
     "base_uri": "https://localhost:8080/",
     "height": 328,
     "referenced_widgets": [
      "1a04c8b26a8642bb9e55caf2491593dc",
      "dc6aad4608c24c0996b87477b7de29e4",
      "67bc8e35e95b4fdea44d16af01c1aedb",
      "11a6d9679dd14adf961266afaf861e51",
      "436ad530c9a34f85bf3701ca5001b900",
      "bf0e676049f349e2a38e4bd7b47ee4b7",
      "8d732454232e473294beb9cf2331bdb7",
      "e31deaaac7f44bdf9ad3a9b1de7052db",
      "43b2b6fde2b14ed3b72ad8fa4e7a26df",
      "8e1285935442415fb5315a4b6f5d98a0",
      "ce2ecf18a9ea433585fd79f0b2d91889",
      "9957bab94c72487d87abb1ee366f4276",
      "e2a61f6df44b4537a21171b9cb66aba3",
      "36e0e46c7c234e2eb7c083eed342d06d",
      "7f3a7219979a46edb9611384a9a244b9",
      "8da7f66ff3984134a6c30a33c250cc2a",
      "941d0d5a13924534a0c67d9f6dbd283c",
      "7816bec9585049b994421496aa8d5231",
      "6ca178bc329f49f7a06635233da294b2",
      "2e7cec419ff643899693a1bc6c06d8b8",
      "ce19236b75b249cfbcc7202c26f03cf3",
      "07a7f485a11246929201d1daa4b579d6",
      "5b438a42bbf543fead0ea78a53db74d6",
      "45de25d3466048409c2eff2cbfe601e9",
      "d99dd0d5d164446680d5a70bba577ab8",
      "4991f54c636b48efa540cdfc5b8ff61a",
      "35a1ffecbc554574b0817f1b306f814a",
      "011c40caefda497598e27d60296652dc",
      "137aa7f2031742b1b8ec9d2ed03081b8",
      "38c458eccaa84654b174271bc3847e98",
      "64361188a0b24bffa87e1aea436571e1",
      "2a3ce6dc251a47f59fa3e38adc94d26f",
      "00719bc5eced453a98fe4eb162b2ae0f",
      "e7ed0e19316e4849b892c8746e41e7e5",
      "747eb41b43c74398a094a99d957182b4",
      "3fae1ea29d5543d38b4ee3efb4a807a7",
      "a412e6bb838543109b785db1104125dc",
      "c0b6a9aaff9b4f19b99cbede8f3f840c",
      "64bf9a0aebc34e168d1f7675154a89f8",
      "a03aebd246444594b21dbbf2ea1fa7b3",
      "86eff6e65ee044afb68af2f6a63a0509",
      "76ba8e8f6bf9449780aefb7a7c458461",
      "aab4c88c5d284e2794df3b12a92a9b53",
      "9c10d9d1cbbf43e8b4e1f945e569027f",
      "9ce1e45953874a21b373268ba3f02a05",
      "fcdbda3acdff40069c4cde0fab40ede5",
      "2aacb722690c47e483b3b48bb70df217",
      "8acd1ea9370045a084fc4198f95c0113",
      "b8da68f24a21473d946341a3a2680fd6",
      "d02cec390a1b44c9be4812beb13f7a49",
      "bd6eacf46027443082e38ed0556d0aa8",
      "c818404c4faa420d818fe4824997984b",
      "d2e560014a164b07b9d48d548820b227",
      "7a95435d3a424008b26c709e88c1bb11",
      "8807d89bd6d44e1fb4d737d318110fa1",
      "c1df350fba344a53bbd0a230cf045698",
      "28425ff83a184089aa29c02fc80337d2",
      "ec2bbd5369994678b2001d5ff652bba3",
      "8cc621a42f914eb6a9116a98f8283eda",
      "1fb4caba3b2f43f090b5fdd77dad25f7",
      "b3e397b8d5784a30937ea1579dfd9022",
      "2cf6b24fc83c43e18d3b708c5813e441",
      "9ec0caf3091b48b984e6c484ae99482b",
      "079d680d27754a0489832e9066308d12",
      "d42b8ae5f51e4a24b809ad6e5a14a4a5",
      "fb101ede5fd7461abeda4a4b3bffe521",
      "f4451811bf55491293d6180c4edb9fe0",
      "baf054e0f2764041a4f94c7dc6ea6d05",
      "bfc7867050f84454b286cc1096e64075",
      "e70bc493fe0645ac82a438d395df050f",
      "c7c2e2a5847f4618a4d22fa2da29aa5f",
      "486a171c38a84b238a28a16e0dfa47ff",
      "debcf4f4896d4e85a32eb52070935167",
      "1446f1d8d4f74b409d0d57c1fc9a3686",
      "1334fd02fee4410fba55cf9a9baeb78b",
      "d96b8d67d15846ce97dc94d21cb1c10e",
      "2a3953fa063147d4b7ddce2c9c1c1260"
     ]
    },
    "id": "aU4plpDUyhqd",
    "outputId": "0917a9c0-c4a5-4e04-e4ec-037786927b5b"
   },
   "outputs": [],
   "source": [
    "classifier = pipeline(task = \"sentiment-analysis\", model = \"SamLowe/roberta-base-go_emotions\")\n",
    "\n",
    "task_list = [\"I really like Autoencoders, best models for Anomaly Detection\", \\\n",
    "            \"I am not sure if we CAN actually Evaluate LLMs.\", \\\n",
    "            \"PassiveAgressive is the name of a Linear Regression Model that so many people do not know. It is pretty funny name for a Regression Model.\",\\\n",
    "            \"I hate long Meetings.\"]\n",
    "classifier(task_list)"
   ]
  },
  {
   "cell_type": "markdown",
   "metadata": {
    "id": "NH_f9AxZ6LhL"
   },
   "source": [
    "## Text Generation"
   ]
  },
  {
   "cell_type": "code",
   "execution_count": null,
   "metadata": {
    "colab": {
     "base_uri": "https://localhost:8080/",
     "height": 330,
     "referenced_widgets": [
      "3e7502c291114ede8e68863cdc211a1b",
      "ea26c223ed93406ba91819295025f6d5",
      "9f5dea948bce4401b754af05332efcb2",
      "6a734f87305c409fa8e0e9ef3b33e158",
      "7f9779ec0cde43d68c91279122d22094",
      "00ad25451f5b4504be0abae962b93349",
      "7fcd2a407aeb4959b86dfba7927ccb5d",
      "46e71d0ef8e349be9b0cd88c6d545b76",
      "7c6064e2bd5a4ac899955e93645ef037",
      "562c77fd992e405291351ebee2138d3e",
      "d637f7a509d44b90a1c842dd5943acad",
      "0a07aa693ff74feeaee15d1083aae3b9",
      "39aa2453e3fc4fb98a15a20485dbabc4",
      "5ef9a01805bc465e9cf2555161db3acd",
      "f928b207256b466caea25ff93b6d5082",
      "668559d2629b41e892cff8047115ee25",
      "332bfc06b2d64e28b72d1279b698c388",
      "f2f4966858e644948f7f5107b938a861",
      "7e6cc4fadab84445ab04fd5196ed90c4",
      "e38de9918ac34c17a289fc321acd94b3",
      "9dcaba418f214bdca83d0744c10bd072",
      "90cad1bc2a9e4a4c84b734dc68f6df25",
      "8aabc95302474c86bc43d5cf9a380a02",
      "4652dab633754ccbb39a1dc917e6943b",
      "e31dbbb276bc415b84d4ff2ef8b00bce",
      "810ab9da39a841bbb8432f742ff5980e",
      "fd7084ee751846e7a5e5347d82fc5e01",
      "6bad537d584a4230ba0bd01fd94834cd",
      "7f9158514c8e44dfb271c25921893a15",
      "9fa3329065d1405bbd1ce4936fb390cc",
      "b1c9163de2b94640b7fa048f2f3bdb14",
      "df2c2945686942f1b486f31a0fe6e41a",
      "580dec3263be44be97de38030e41b9dc",
      "47da4f85f2ff4bdb8456537a376d2c65",
      "bc586f3309fc47b69b49293b9400976a",
      "d27db53e574a4431b54f262fcec89e90",
      "08826c62ea1149038c2c3696c0436c71",
      "36d4d91f8edb4bcd8670eef2117a1386",
      "4b46188703414b72ae5e2d97a1ebb6c3",
      "428981cdd03549fa9c31550968421d72",
      "0a000e3e84ba48f79f03ecf0b68eec04",
      "5738cfcd6dfc41a994aab7df6cdff656",
      "551a48ce1026490dbd30b6294a339545",
      "89b1a28b5eb94da3a6dd54616dc5284a",
      "73e8ca8c39e0426285d40212ebb6f113",
      "b631e0d28ba14b3f83c6a4abc7c16978",
      "da6e134262f84b5d9b624035579b5b1e",
      "86e2593db8d042b3a9d6dfc23a50fc81",
      "e236935e7e9244b9a469113b80e08ec0",
      "20704d97b81d41d29eed03d2e5a865ce",
      "9b9eef87c6f74f88a881c4a1b98bdb12",
      "5930b512c576496e8f766bd8608e53c2",
      "df07b731b42a42e7b32c6b89fb07d4cc",
      "3c22a038107346d487472db40b153004",
      "75019ab594514a03a590a1a72d840d3f",
      "811842f7224d4ef48998e5433fde0a9b",
      "0d52ff3e1e63450d8b0d2c8a352d9f62",
      "6c2faf59ee494e119336e2d4dcd7a376",
      "104cb82d6c3d403dba1cf83758e05f57",
      "a624ec7692df445293825626628d83b1",
      "48cc5cc4023a4f3b989f05b74ffc1cf1",
      "3e653455934348cf8b7a3cca4e86c483",
      "eede5e2cfcc44a7aae1c2a0114e547a7",
      "c4d8f7c679ae4ebe902409d4d32bbd7a",
      "0880547776e4484082e4bd133215ec34",
      "6af53682aaf84176bdb49d8db138bed7",
      "8ac6f9d8409c4c9fac6ddd1cc0e7bb07",
      "1d18225b404449eba6b5869436009eca",
      "0a18a465a1c84ff09100f92b44727c92",
      "9fc218d6ffea4e5d8d092052fb4f7e66",
      "d41c5a7f4c48472ab41e8f35999fe7bc",
      "75320aba4bba4e5f8e9025f360f70c6f",
      "57d7b94a2cf04cd8af38beaed64f532f",
      "4ae6b378b8e94a048fb2a351d0cce793",
      "31b030cc43b7478b81800834051c8b80",
      "39efa2b3c38a4abaa7012aac36a74d05",
      "e3441f8b9e0b4c9da1502f042108c0b6"
     ]
    },
    "id": "G46VmgNa73ni",
    "outputId": "9bb54583-175a-4ea7-e9d2-22a4139a5dbe"
   },
   "outputs": [],
   "source": [
    "# Use a pipeline as a high-level helper\n",
    "from transformers import pipeline\n",
    "\n",
    "text_generator = pipeline(\"text-generation\", model=\"distilbert/distilgpt2\")\n",
    "generated_text = text_generator(\"Today is a rainy day in London\",\n",
    "                                truncation=True,\n",
    "                                num_return_sequences = 2)\n",
    "print(\"Generated_text:\\n \", generated_text[0]['generated_text'])"
   ]
  },
  {
   "cell_type": "markdown",
   "metadata": {
    "id": "E3lydSIe_NvK"
   },
   "source": [
    "## Question Answering"
   ]
  },
  {
   "cell_type": "code",
   "execution_count": null,
   "metadata": {
    "colab": {
     "base_uri": "https://localhost:8080/",
     "height": 318,
     "referenced_widgets": [
      "2ff3589a4496461098a93d90b8070d95",
      "89474e551ea04b0d93ff92e5e98d574c",
      "e62047665a274be1b8037466d0f239d4",
      "05a70c6e16004b5ca71e362c7817fc64",
      "fa2d50857c0c41b1852ba1f29dc7cf03",
      "199340752c984e9da7904012f646d68f",
      "b24d6d86241b482e9da0fb9b10545bc5",
      "3ad6f9f13cbf4d85991cd6b91a685271",
      "2240fcea4b1c4b2db80b892c5044a868",
      "fcb18ac54219428abec92a2ecc920a2f",
      "2bcb099acf01470da9cbb60e98228871",
      "a915eb9464d2499e94c8ef89d06bdc9e",
      "10738567518243e4ad67e885bccd37e7",
      "28c7bae84dc744e6807869485365fd70",
      "7483aed02a0c49b6a74db6ff25883bf2",
      "ba5826904c684db49e27893642f775c0",
      "d8c58dc17e5a4a46a486b36701404b02",
      "d7bf47eeeedc4e4bbd7804515e2eb3eb",
      "b31e8a53224840deadad362c63711ba4",
      "23029c543b814d40a006ba2a23439192",
      "f814cd67ce404a4486773ae580538f29",
      "a242da3bf0774626b45541433c3dcf1d",
      "febdb684534443549dd2536fec416441",
      "c36ca12e38dc4ba8af38c7b693b29ad8",
      "bc9bd111c2864af792fcd5a268118de5",
      "5bdcdfa5d6564736bd61678ee67d0b8e",
      "2a85a29703a240ae8da96429059e1e6d",
      "fc9411a6a6ad4d91adb46adae59b7d05",
      "2b55ca17a0624362904bee5ee7057a34",
      "6021978fb7a848bbb1c5e36193216f14",
      "1450be85438644cd817241a5365bd905",
      "0af6c4e0ad394db0b1cb1eb841932a53",
      "8036901d5c8741a88be4d8dc6e602fdf",
      "05fa1573deac4c1181f170389f3c3ad3",
      "17cf8ddfb3684378b21ac4ed9c8512b3",
      "6f246a13a1e24253b158282857200360",
      "7ba210787d534365b6dd41f4fd29806d",
      "147537351a3e45f0acd6eb2ad673da4f",
      "694c0f01ae01459e83c0b22ba7428127",
      "b93717597ea34d99bc2cd3a02f64cfa9",
      "61930a4db1ce48e0bb98c4c5150e1b6e",
      "993fd0f12adf4ae9b6de6afba8cead73",
      "5390c9d59ebb4bc589a5123854fbaf1e",
      "91a0e1c50f1e4d6ca1fdb288c0d6fdf6",
      "146d8b070a2b4def95360adceaaace3f",
      "0a7f69965a7e400c8fc93de58c5048b7",
      "2c1fd5975b0a4acaa6c480559105122d",
      "44dc4f3da4654233bacca2443a56402f",
      "fc223c05316d4c52b47f4fa16f4b6280",
      "26c9b22440674144aa467f438dc91cb6",
      "00aa0fe4c3d1480980b0ad79bfd31320",
      "aa6b5d7e9d34498aa3f11265ae24edc2",
      "76126b9468744fe687ba1cf52b8a366d",
      "00afedb5874e441a80d43fcd2cfb1c09",
      "2767d6ff19674505a9bdad2dddadc227"
     ]
    },
    "id": "UEA5_fX4-jgC",
    "outputId": "c77ba3cc-358b-4186-eead-659ec3e87b79"
   },
   "outputs": [],
   "source": [
    "from transformers import pipeline\n",
    "\n",
    "qa_model = pipeline(\"question-answering\")\n",
    "question = \"What is my job?\"\n",
    "context = \"I am developing AI models with Python.\"\n",
    "qa_model(question = question, context = context)"
   ]
  },
  {
   "cell_type": "markdown",
   "metadata": {
    "id": "TRN2QYnq0Ex2"
   },
   "source": [
    "# Tokenization"
   ]
  },
  {
   "cell_type": "code",
   "execution_count": null,
   "metadata": {
    "id": "kM8irpMIPKhQ"
   },
   "outputs": [],
   "source": [
    "from transformers import AutoTokenizer, AutoModelForSequenceClassification, DistilBertTokenizer, DistilBertForSequenceClassification"
   ]
  },
  {
   "cell_type": "code",
   "execution_count": null,
   "metadata": {
    "colab": {
     "base_uri": "https://localhost:8080/",
     "height": 212,
     "referenced_widgets": [
      "4645e785f52d4f499419166e64bd7507",
      "918011f6677a4c9f9101138909f57bc9",
      "4a817877063541ec900a3eb78aeb7a93",
      "dfc1394a85714576947e9cd55df6cd79",
      "0220d00958cb45c7abe3f9984f85138b",
      "18d809d215a7419f9d506beaf6df4d53",
      "f5dec26a054a47e5bc58de9c8f239a77",
      "2de7aa8c23114fd09bf30e1845621bb9",
      "db2563c2136a480e99d5aef7228e683b",
      "4b14365a1f044f478bd9cd569936659c",
      "3d7488ae81a5496dba3cc69730b27a31",
      "0fa31a25c6aa4aa6b2dc4c9f92f6e714",
      "457049010a764698a10bfc9c43e972dd",
      "6c4e88244bf14c8e8f13728fb1d6771e",
      "ede673747e3c4e57a8567ca5640d643c",
      "785fec188d2246ffba5f0fefb694f65d",
      "f7b6bb43ced1474f867a5afc5cc0fbf8",
      "5d4bead4bdf14514a5d17d6d7512d98b",
      "0342dfd5100d4af988acea1091ca17d5",
      "e20dec21a69c4f0fbf41005db0a51821",
      "1facddc797eb4becb14739f1e776f519",
      "3c24281d25ec42f3bbf66de676ae6a37",
      "44e8b03dbe464f58930ea82a1b834e70",
      "d84a6029b6684a66b957f8d556fd4e03",
      "365b17635d294492994f7169073b11ce",
      "30a472274da344859732255f5ca2e5e8",
      "21f1f3c52e7e4a9d8d1157f66abb2bda",
      "2886d9b7f71d48ff894b44e8bebdeccf",
      "ebb578892efd40d1a37b6002f770c31b",
      "d960a844fa5c40828f7a5d8f0d1f276f",
      "c3340dd97ffc4f8888c5c86eb32c25d8",
      "47dc799a2cda45f68141c4f05578da6f",
      "554cb06fb4734500b95217bc565ec5e5",
      "e30d99d81deb4d18961cc8694208ca1e",
      "e4dcc8fffdab47ee95fbedd627bbc409",
      "ec6fc63cd9fc4dbe89e9cd857fe2d0fd",
      "3a1f0459517447d5afa752bf104d956b",
      "c43ec7eb4d6848ef86db3e3195ab965c",
      "435e01695006426fba5231f9bfdff8ae",
      "9a76827e45cc4cabb525b209ea0f82c9",
      "269ccb817a5045d3ba302d9502eb92d0",
      "58f3b4c6592f40deb35f09bca7fbe833",
      "ccdad93d8ef14e96aafab68e241bb9e9",
      "16635de54799492fb6056df05b613471",
      "22a4d04f7cd8425ab7fc957a05846d03",
      "76becd97fe6e405cb8312802884763df",
      "7c1dee5ca9b3499aa84a2d4360564360",
      "0cdbe171630e4b6b8ac21a8e03388b11",
      "038d7de178394f019253488a528826ed",
      "b27d91fddae14898add744bef2ced900",
      "7a9624a743df41f29a8d3f997b1c7460",
      "4b368b0798ab4467b43b83e6496ee966",
      "9b3489330055472badb3b68f552de483",
      "0477fd09073644c9ab3eed7f88c4946b",
      "a6701cffbcaa4498a94d7cce0d9c748b"
     ]
    },
    "id": "xX7Tpn-HErlo",
    "outputId": "a24254a8-5215-4e6e-9464-60d5b0ded148"
   },
   "outputs": [],
   "source": [
    "model_name2 = \"nlptown/bert-base-multilingual-uncased-sentiment\"\n",
    "mymodel2 = AutoModelForSequenceClassification.from_pretrained(model_name2)\n",
    "mytokenizer2 = AutoTokenizer.from_pretrained(model_name2)\n",
    "\n",
    "classifier = pipeline(\"sentiment-analysis\", model = mymodel2 , tokenizer = mytokenizer2)\n",
    "res = classifier(\"I was so not happy with the Barbie Movie\")\n",
    "print(res)"
   ]
  },
  {
   "cell_type": "code",
   "execution_count": null,
   "metadata": {
    "colab": {
     "base_uri": "https://localhost:8080/",
     "height": 162,
     "referenced_widgets": [
      "989fbfc75c15440ebeff6047472883c7",
      "d7293a3f54ab4c249f39c4fd6ebe0611",
      "15a4f83ae3274fcaaea69f6c220564a1",
      "53d8a9006fb1442ca215d5a9c0a4675b",
      "6876ec8dcc374829a6ec245e332e4105",
      "a5642001c152471cb3b7fd6663e2f89d",
      "0fafbad6637e4201a54326e252429af2",
      "0d5cf2c8145b433ead4154d4b5116a4a",
      "b907f0630e8a44848f69ec1102e571b3",
      "9a6dd32146864dd1b0eb9775b26a8d19",
      "462fa651ec4f446eae17e6871b3fc635",
      "aff2f632f6b0456488bcb70eff76c9e0",
      "a6daa42becfe413ea6f4d73148f5974a",
      "b7b056a329ec4f5da14a52a0638612f4",
      "256aff03a1d24c1d9260f340a3c3155b",
      "5f69b35b1e554767adf26c9ae68e3b5a",
      "0a1a64dbe0254b8281139e262d3fe138",
      "d58db5231f1f43908f6a5b990ef9d2d6",
      "e27e094e7a4d4dda816606f360e98dbc",
      "980837a5b1f94193b2cf52ba2d0756c5",
      "6e235dce5e6d4db0b4933c79ce1a173e",
      "44f380b3b0924627af2efca0157f8c28",
      "b80a8c946b5c4b7bb78c68a8a1ef0b1a",
      "55fbbf42c7f447099f4f8efc7a88e4f7",
      "8674430846f04fec9eba2868a8f0bc67",
      "5df70c7f8ba54595be284bd4b2c6c077",
      "e206609efbe94e6d9522f24027448016",
      "7da6fd9a8a124f6298bea3a50eb88e77",
      "3533499bf37d4fd2addf95161c55714d",
      "8cc90e16abbd4b46a2489dd3ece79d79",
      "4046d7ecbe4148489596807b689de5f2",
      "50ddc515a59d4833867595c3ed3b4744",
      "5899ac958c754f899bca0a07310b0df9",
      "69eb6ccb3625424d9136204e1c85b889",
      "4f107e8891554506af56a2f1ece517e4",
      "90c725f3a9dd48769b09eeca16f0bce3",
      "00dbff8406c04e129d9bf483506e011a",
      "7f48b42babd245268608ca479e8d1b98",
      "1043e0062f1a4153aaf7f37524573d5e",
      "5f536db2c03e481b93b0e340be46cd55",
      "134ecfe699dc4de1aff7f1a46cf07f7a",
      "99f190669a0949b98b4e809c5b64dc10",
      "4d79ea97a0f14f9ebc5c69cd3fb02b67",
      "b35c641a705446d7b6e01358efc8c6f6"
     ]
    },
    "id": "VO4PcjquK9WK",
    "outputId": "cd0f4a3b-bfae-4c04-d01d-565916096864"
   },
   "outputs": [],
   "source": [
    "from transformers import AutoTokenizer\n",
    "\n",
    "# Load a pre-trained tokenizer\n",
    "tokenizer = AutoTokenizer.from_pretrained(\"bert-base-uncased\")\n",
    "\n",
    "# Example text\n",
    "text = \"I was so not happy with the Barbie Movie\"\n",
    "\n",
    "# Tokenize the text\n",
    "tokens = tokenizer.tokenize(text)\n",
    "print(\"Tokens:\", tokens)\n"
   ]
  },
  {
   "cell_type": "code",
   "execution_count": null,
   "metadata": {
    "colab": {
     "base_uri": "https://localhost:8080/"
    },
    "id": "FHOdgrtaP-2n",
    "outputId": "218e67af-12cd-47ac-ddbc-ed6254b0f3de"
   },
   "outputs": [],
   "source": [
    "# Convert tokens to input IDs\n",
    "input_ids = tokenizer.convert_tokens_to_ids(tokens)\n",
    "print(\"Input IDs:\", input_ids)\n"
   ]
  },
  {
   "cell_type": "code",
   "execution_count": null,
   "metadata": {
    "colab": {
     "base_uri": "https://localhost:8080/"
    },
    "id": "2OqffWefQLPA",
    "outputId": "7c4ccbab-43c9-4950-ea3c-1f575fad7143"
   },
   "outputs": [],
   "source": [
    "\n",
    "# Encode the text (tokenization + converting to input IDs)\n",
    "encoded_input = tokenizer(text)\n",
    "print(\"Encoded Input:\", encoded_input)\n"
   ]
  },
  {
   "cell_type": "code",
   "execution_count": null,
   "metadata": {
    "colab": {
     "base_uri": "https://localhost:8080/"
    },
    "id": "Qx35mzBBPyYa",
    "outputId": "178bec2e-2446-4a82-9a36-758e3e11340b"
   },
   "outputs": [],
   "source": [
    "\n",
    "# Decode the text\n",
    "decoded_output = tokenizer.decode(input_ids)\n",
    "print(\"Decode Output: \", decoded_output)\n"
   ]
  },
  {
   "cell_type": "code",
   "execution_count": null,
   "metadata": {
    "colab": {
     "base_uri": "https://localhost:8080/",
     "height": 234,
     "referenced_widgets": [
      "e0780baf97b6431491aa3b49577b351e",
      "c4863c5a8af54c44bab9188b787c6021",
      "2a670be1d0564ce5a5583a0641901a25",
      "417bffbd7a254b46b694dd1bf1e9ad63",
      "53a3026c215146f9b304a66953896bb3",
      "2950998944fe41f08b1ad52c3ab9fceb",
      "8bfac6fd400c4a119c7e3e7bca885663",
      "99c58ff4e27341ce865540885863b6fc",
      "072c101662d340b1abb0ca72d714f51b",
      "771a739223b84039bb237b17cbcd02a5",
      "fef2b6b9dde949549f590f2640f3b84c",
      "7f0a8943e30a438894ef358ad910dbb2",
      "fa69951020154abcaa7d631165b166a3",
      "05c8e8e43892431ba829b0fe6b7eda83",
      "13291e5daaac4b7ea34bd0970e675330",
      "4b774ed99ad549d0952e24d216d3baf1",
      "2a6b3ac957f748e9a11fb6e484bd62d6",
      "f0f6bd7f3bec47b6b9213b64963e9ef0",
      "696d70219acf4a8989046d7a588652be",
      "a5cda1bcb78c4da2bfa637a81608fcaf",
      "bf80cac00b5342ae84e146f42a3200d2",
      "91be4cfdf8fb4cd99a567c257ed80c8a",
      "2f4877ff7530439cbe7d8eaf057c8ac0",
      "e60b4233900e4a59895b6373caa9d485",
      "9acae0b5d8d24ece8a2f8ca91897fcfb",
      "9fc736a3e4fb4742b83214f248b946eb",
      "694a6db2058a45cbabee43139c1405f2",
      "a48072bd413944488443aa00eccdee00",
      "340e2986b6b049f9b21e3873da087c2c",
      "32326cbfda6942599d8bb0ed9074d240",
      "3065b55e9a994c8e8bbb3ad8e91478ea",
      "93513175cd804551b798a49491252ceb",
      "1429b9d8e10e488499c74b185a3841b7",
      "5955d4d3943d401d93b6f1333698ed6d",
      "cbe19ab2c7ce4f58b01aaec285ae3cb6",
      "7dc74359987d4d8c95f22a1732a163e4",
      "eb7a506c9dc745e7aec092ee2b331e7d",
      "be638a08d17749198a9a2ddf488a59d0",
      "97c2035480074a54aa842ff46d8b9c5b",
      "f4d09293bc7e4b098c98065f5811a65c",
      "242950a8322149b29ac59407c5bf60d4",
      "c773444a96594be0b1ed381d58dfc089",
      "0a4745fa50eb4284938efe06e4d9351a",
      "22dbd86ba674435884295fa4b526ee58"
     ]
    },
    "id": "boghHype_R5R",
    "outputId": "84675acc-84f1-4583-c328-689890af19c7"
   },
   "outputs": [],
   "source": [
    "from transformers import AutoTokenizer\n",
    "\n",
    "# Load a pre-trained tokenizer\n",
    "tokenizer = AutoTokenizer.from_pretrained(\"bert-base-cased\")\n",
    "\n",
    "# Example text\n",
    "text = \"I was so not happy with the Barbie Movie\"\n",
    "\n",
    "# Tokenize the text\n",
    "tokens = tokenizer.tokenize(text)\n",
    "print(\"Tokens:\", tokens)\n",
    "\n",
    "# Convert tokens to input IDs\n",
    "input_ids = tokenizer.convert_tokens_to_ids(tokens)\n",
    "print(\"Input IDs:\", input_ids)\n",
    "\n",
    "# Encode the text (tokenization + converting to input IDs)\n",
    "encoded_input = tokenizer(text)\n",
    "print(\"Encoded Input:\", encoded_input)\n",
    "\n",
    "# Decode the text\n",
    "decoded_output = tokenizer.decode(input_ids)\n",
    "print(\"Decode Output: \", decoded_output)"
   ]
  },
  {
   "cell_type": "markdown",
   "metadata": {
    "id": "pa5YaOLhLarj"
   },
   "source": [
    "**token_type_ids**<br>\n",
    "These IDs are used to distinguish between different sequences in tasks that involve multiple sentences, such as question-answering and sentence-pair classification. BERT uses this mechanism to understand which tokens belong to which segment. For single-sequence tasks like sentiment analysis, token_type_ids are all zeros.\n",
    "\n",
    "**attention_mask** <br>\n",
    "The attention mask is used to differentiate between actual tokens and padding tokens (if any). It helps the model focus on non-padding tokens and ignore padding tokens. A value of 1 indicates that the token should be attended to, while a value of 0 indicates padding.\n",
    "\n",
    "**Why Padding Tokens Are Used**<br>\n",
    "Uniform Sequence Length: Deep learning models typically process input data in batches. To efficiently process these batches, all sequences in a batch must have the same length. Padding tokens ensure this by extending shorter sequences to match the length of the longest sequence in the batch.\n",
    "Efficient Computation: Fixed-length sequences allow for more efficient use of hardware resources, as the model can process all sequences in parallel without needing to handle variable-length sequences individually.\n",
    "\n"
   ]
  },
  {
   "cell_type": "markdown",
   "metadata": {
    "id": "CXen6cV5ikd5"
   },
   "source": [
    "# Fine Tunning IMDB"
   ]
  },
  {
   "cell_type": "markdown",
   "metadata": {
    "id": "qasZweQti8v8"
   },
   "source": [
    "## Step 1: Install Necessary Libraries"
   ]
  },
  {
   "cell_type": "code",
   "execution_count": null,
   "metadata": {
    "colab": {
     "base_uri": "https://localhost:8080/",
     "height": 1000
    },
    "id": "dN9QQ9l3imOk",
    "outputId": "1d3f7f62-f8cd-43fe-a85b-93ffabb3a194"
   },
   "outputs": [],
   "source": [
    "!pip install datasets"
   ]
  },
  {
   "cell_type": "markdown",
   "metadata": {
    "id": "e9oxKxXbi_ok"
   },
   "source": [
    "## Step 2: Load and Prepare the Dataset"
   ]
  },
  {
   "cell_type": "code",
   "execution_count": null,
   "metadata": {
    "colab": {
     "base_uri": "https://localhost:8080/",
     "height": 365,
     "referenced_widgets": [
      "8a1d0cecf87e47bcb8abc440f58c7bde",
      "e8f758c980cd4796bbc0dc5296c5d67c",
      "7a1d254166d04744904d10758fa2dd19",
      "ce9678eb90544324b20f2007a7a58545",
      "3134dd84656a4ef38668da61d1d1ae2c",
      "72ed62cbe8f74dfeb1abb5e324a078de",
      "5c17d56c6fcd43af8c8f557a6a1320f8",
      "5020b6cf06f44f1e8719fca1e8198b4d",
      "97a9f194fc96492db287c7033e8fabf5",
      "0b04325753f54e67b788ac37afbb3493",
      "a4cce651a9b04707b239acf25aca25cd",
      "30807705d85d40fc824690c49ddfb537",
      "efa54ea7028c40a5adf48e2358bb3643",
      "873e76a89ae146b1bc9cfbd93c48ad90",
      "9c1353566d334c11836df4349fe33ce3",
      "95d393656c7b42cebf31ecb483f149bc",
      "f3b0878f1d7d435e9417eca9dc3ab718",
      "ec5f4ba1216e45b9857f99a74712541c",
      "d4eec3ac497646db938184f04da01f9c",
      "93c2cbe9c8b94d1ca20d4a202dbdd4dc",
      "41b4c04b35c142fcab3aa5319b11044e",
      "4e40c47be5ea4733b16df66c0ccca40a",
      "0cded6d540d841258d105bcf16d21575",
      "4916b543313049b6af042a24f3d08e0a",
      "ce788f64bd324dec86c54b8306cac8c9",
      "d02c1798e71c432db27a5683b25b5852",
      "dc682fdca57149bfbce77f302846dfa9",
      "fe5e64ad76e7460eab9bb723518ccb95",
      "b44f6a343dda438a83be36a30f5d2525",
      "f1cbfb1841a2450d99cef601ca2ed3d1",
      "bc94daf11e5e41e6a6571f812aafaa8f",
      "36f75bc1ec1f4809877884bea2c2bcfd",
      "8fdd6d5c2c3143b0af5c35990e24453f",
      "51d5845629dc4525a00716810763555f",
      "ab5664ba79c94855b5006e307b3e3c72",
      "341c39a47eda49e5b2f8f8188dc98216",
      "ad18fc971e3c4914aa4a764b3f1e4542",
      "1cb57a58a2f847e19df78d4ac129b52c",
      "032e1d351eac47548e929d52c1b0b6d6",
      "0cae9a6a7940415f9f9dc1a453f0817b",
      "84fdbb432c9b43b79e79659bed5dc404",
      "4a1caaa5413b41b59dee4179be723e1c",
      "f16155518c334b0ea673babe8732e113",
      "06cee96824a54ebe92bf71daab7de802",
      "f9baadb132814195ba9bc899c36bfc19",
      "ba5b12ff2ff840d3b7bbdcf8d5a99bd9",
      "9a4f46c9c0e74c56bc716679107c75cc",
      "af23d1735b3848089e0f360620306cca",
      "6918f818756042408c6c42eae85abfbb",
      "8ff9d31bf2bc4bda8f3e6d9ae851a98e",
      "2350dc5535d8476d932183d8afa9fd4c",
      "5b72663eed6d4835a135ecfaef1b88ce",
      "eebc263e29ef43d1af1d53d6ed33364a",
      "b826c2acb4704f43801d17294684321a",
      "a2e4c92531404e40927d770752f815f1",
      "c5f4ddd36e3546d691575f1857ea6350",
      "8ce802d28b454cbb944209e527590c9e",
      "931d308f4a004c129c0b6de748958f1b",
      "4764a76a381b45049650b8dea43e1216",
      "39e9531d54b14b049436b2bff1ec09b8",
      "3e6be014205440ce848b1eee74b4cbf5",
      "30e30db27c904fd2af659a01eb7620f3",
      "add7bbb25a534df6a81a721d658b06e5",
      "a6f02a51ba494e889fe2787da2ae450b",
      "a4d8536486414b69a537d7cb8473c9dc",
      "f1e0813d83ea488a8311457fba9e2f48",
      "865b180171ab40cdb838757afcb13f09",
      "baf363cbe5d64898972db59ba50a86ca",
      "67e609160c734b82b1759bfe8d016a77",
      "aa810c1a23d44f76828e962a526d2115",
      "42ccf37080cd43f1a428b50b99e0fdd3",
      "952809f736ac4947b4a1528efe457048",
      "eb5c399f06104d88b8fafc902b262789",
      "dfffcad094b140d1ac6072501e1136c6",
      "d326d7ee485441b2a23e15b495016598",
      "5eb87ed6803a499690739f12844d01d2",
      "b6bc50c903d14af2b9ad05b965c028cd"
     ]
    },
    "id": "cwPfQ9qdk9fa",
    "outputId": "4617da61-d80a-4757-9759-f02a51de1c7b"
   },
   "outputs": [],
   "source": [
    "from datasets import load_dataset\n",
    "dataset = load_dataset('imdb')"
   ]
  },
  {
   "cell_type": "code",
   "execution_count": null,
   "metadata": {
    "colab": {
     "base_uri": "https://localhost:8080/"
    },
    "id": "54Hhfjlul8Y6",
    "outputId": "33eb0740-a787-4979-bb5d-139fbab7cf23"
   },
   "outputs": [],
   "source": [
    "dataset"
   ]
  },
  {
   "cell_type": "code",
   "execution_count": null,
   "metadata": {
    "colab": {
     "base_uri": "https://localhost:8080/"
    },
    "id": "jnQGMk5MSTZJ",
    "outputId": "352b1a4e-aca1-4220-cd2f-1281a9ada631"
   },
   "outputs": [],
   "source": [
    "dataset[\"train\"][0]"
   ]
  },
  {
   "cell_type": "markdown",
   "metadata": {
    "id": "5qII9CiJlM5D"
   },
   "source": [
    "## Step 3: Preprocess the Data\n",
    "Tokenize the dataset using the tokenizer associated with the pre-trained model."
   ]
  },
  {
   "cell_type": "code",
   "execution_count": null,
   "metadata": {
    "colab": {
     "base_uri": "https://localhost:8080/",
     "height": 113,
     "referenced_widgets": [
      "ee9c20f379df406da2eadccbc9b523aa",
      "1dd43b23c49c43039484f5dd25fb7cc7",
      "f71e09e00e0f4946aa656d0670d1893c",
      "484458d600914085bb772d7df573c0de",
      "6fa74bd7e8774dac9aa1040606be310d",
      "df30ae6a39024faf86bbf23f496ae4dc",
      "cd9b7c66a4164fbc9f45d218cf14f916",
      "e2a2cd59cf2340ecbee85ff41a67a7b8",
      "78f2179a1b3c47e081980d705ab5762b",
      "23edfbe1011149998dffad966d619800",
      "938b29715dac4c80977e2b9f04ac8f75",
      "99e34aa91f4349b791f2fd190b95a099",
      "b002cdb5e51c44b6a8f7f3f3f14b96b1",
      "11b2eb7007b94560bfb68f1f33c2825a",
      "8e9fbe9c98f64af2ba6e13300bdb7113",
      "4789b7a33149487cbbfd9d89c176bec7",
      "57e40913ff024453ba2333d31d3dd35e",
      "ffce82cbfbb84f5992ad3686b41ea083",
      "70d41e94939442d5afadc089787830f0",
      "fc0e6d9dd51143fba91ed2807f0ac828",
      "89e8c6cdb24742da97f13543e13121f6",
      "19f2eb36c4964c418baadf0541306829",
      "451c1e8779934067aecb9492826ef65f",
      "726ff378d975496884c353c4991d0b8a",
      "7fbc3f46249d42849ec833f7cf073a47",
      "0014b3e3f6874fa7880064241c685cbb",
      "fea254101cf746489c283ae733204374",
      "4beaae85462748438383312dbe7ee889",
      "6317c9b762f84e92acec62aff4871404",
      "21e08e6a25f84d0ebf1f887ceee0712c",
      "cf7e1610d79e4616a1081ba42543c3a5",
      "fdb7977a8e094f61878c31a0aab19c0e",
      "e147acbb6e30487eb0fcf6c0b04ebceb"
     ]
    },
    "id": "xu7u5yZTiuV8",
    "outputId": "bad543b6-78fa-46cd-c3b3-12e1b4e3ea4e"
   },
   "outputs": [],
   "source": [
    "from transformers import AutoTokenizer\n",
    "\n",
    "# Load the tokenizer\n",
    "tokenizer = AutoTokenizer.from_pretrained('bert-base-uncased')\n",
    "\n",
    "# Tokenize the dataset\n",
    "def tokenize_function(examples):\n",
    "    return tokenizer(examples['text'], padding=\"max_length\", truncation=True)\n",
    "\n",
    "tokenized_datasets = dataset.map(tokenize_function, batched=True)\n"
   ]
  },
  {
   "cell_type": "code",
   "execution_count": null,
   "metadata": {
    "colab": {
     "base_uri": "https://localhost:8080/"
    },
    "id": "gEpqrVlamLyn",
    "outputId": "5cb74ef2-6bb9-4adf-e802-938999964011"
   },
   "outputs": [],
   "source": [
    "tokenized_datasets"
   ]
  },
  {
   "cell_type": "code",
   "execution_count": null,
   "metadata": {
    "colab": {
     "base_uri": "https://localhost:8080/"
    },
    "id": "u6-T8DcXTQOP",
    "outputId": "c7889c66-26fa-4870-acbb-6e4e81260bac"
   },
   "outputs": [],
   "source": [
    "tokenized_datasets[\"train\"][0]"
   ]
  },
  {
   "cell_type": "markdown",
   "metadata": {
    "id": "3gLPJMBsld8k"
   },
   "source": [
    "## Step 4: Set Up the Training Arguments\n",
    "Specify the hyperparameters and training settings."
   ]
  },
  {
   "cell_type": "code",
   "execution_count": null,
   "metadata": {
    "colab": {
     "base_uri": "https://localhost:8080/"
    },
    "id": "_MWj9S2CmKPN",
    "outputId": "6232b6ab-e51e-42bf-ba25-3490f03abb3d"
   },
   "outputs": [],
   "source": [
    "from transformers import TrainingArguments\n",
    "\n",
    "training_args = TrainingArguments(\n",
    "    output_dir='./results',          # Output directory\n",
    "    eval_strategy =\"epoch\",     # Evaluate every epoch\n",
    "    learning_rate=2e-5,              # Learning rate\n",
    "    per_device_train_batch_size=16,  # Batch size for training\n",
    "    per_device_eval_batch_size=16,   # Batch size for evaluation\n",
    "    num_train_epochs=1,              # Number of training epochs\n",
    "    weight_decay=0.01,               # Strength of weight decay\n",
    ")\n",
    "training_args"
   ]
  },
  {
   "cell_type": "markdown",
   "metadata": {
    "id": "hS3Jjk0amlfV"
   },
   "source": [
    "## Step 5: Initialize the Model\n",
    "Load the pre-trained model and define the training procedure."
   ]
  },
  {
   "cell_type": "code",
   "execution_count": null,
   "metadata": {
    "colab": {
     "base_uri": "https://localhost:8080/",
     "height": 104,
     "referenced_widgets": [
      "6a90766dcc9d41a087b32972ca9a7166",
      "e68e3c3f29de435994f41948edcc0a1b",
      "b99c2d9452d64fd6a1b0d10575451047",
      "7c8e0f3bde9147c3abe8989e4c6f4b87",
      "2b376fff9168414e98d1721596866ae5",
      "af5abff86691402f86e08fcfd9052ce4",
      "29d2acd1c303495e806375540c9b4ac1",
      "cc3e41424b814cd9b34ea21845dca671",
      "cdba0910fcc344a7b55f613e7aec0b8d",
      "91222a8acd964be08b2075aca1b9dc87",
      "52e2dabd24144f9c9dedfcdbcf2ebaa2"
     ]
    },
    "id": "w7aOUUEbmpuQ",
    "outputId": "9717c023-1200-47ac-db72-922e7ee70e86"
   },
   "outputs": [],
   "source": [
    "from transformers import AutoModelForSequenceClassification, Trainer\n",
    "\n",
    "# Load the pre-trained model\n",
    "model = AutoModelForSequenceClassification.from_pretrained('bert-base-uncased', num_labels=2)\n",
    "\n",
    "# Initialize the Trainer\n",
    "trainer = Trainer(\n",
    "    model=model,\n",
    "    args=training_args,\n",
    "    train_dataset=tokenized_datasets['train'],\n",
    "    eval_dataset=tokenized_datasets['test']\n",
    ")\n"
   ]
  },
  {
   "cell_type": "markdown",
   "metadata": {
    "id": "gt3aLUxwqwv2"
   },
   "source": [
    "## Step 6: Train the Model\n",
    "Fine-tune the pre-trained model on your specific dataset."
   ]
  },
  {
   "cell_type": "code",
   "execution_count": null,
   "metadata": {
    "colab": {
     "base_uri": "https://localhost:8080/",
     "height": 141
    },
    "id": "J-Bw4XHMqtOW",
    "outputId": "0c9b710e-041b-4ce4-fde8-5f7f7d621484"
   },
   "outputs": [],
   "source": [
    "# Train the model\n",
    "trainer.train()"
   ]
  },
  {
   "cell_type": "markdown",
   "metadata": {
    "id": "s6xiB0b1q5Qr"
   },
   "source": [
    "## Step 7: Evaluate the Model\n",
    "Assess the model's performance on a validation set."
   ]
  },
  {
   "cell_type": "code",
   "execution_count": null,
   "metadata": {
    "colab": {
     "base_uri": "https://localhost:8080/",
     "height": 54
    },
    "id": "7f0xjMHGq6nD",
    "outputId": "40e30fcd-7919-4112-c35e-2ff1fe329447"
   },
   "outputs": [],
   "source": [
    "# Evaluate the model\n",
    "results = trainer.evaluate()\n",
    "print(results)"
   ]
  },
  {
   "cell_type": "markdown",
   "metadata": {
    "id": "9CikT76trAUZ"
   },
   "source": [
    "## Step 8: Save the Fine-Tuned Model\n",
    "Save the fine-tuned model for later use."
   ]
  },
  {
   "cell_type": "code",
   "execution_count": null,
   "metadata": {
    "colab": {
     "base_uri": "https://localhost:8080/"
    },
    "id": "QguzOw8erBlx",
    "outputId": "0c4d4e6b-a7c8-4b6b-f415-f5176ef6a235"
   },
   "outputs": [],
   "source": [
    "# Save the model\n",
    "model.save_pretrained('./fine-tuned-model')\n",
    "tokenizer.save_pretrained('./fine-tuned-tokenizer')\n"
   ]
  },
  {
   "cell_type": "markdown",
   "metadata": {
    "id": "zvc5VMWlie_G"
   },
   "source": [
    "# ArXiv Project"
   ]
  },
  {
   "cell_type": "code",
   "execution_count": null,
   "metadata": {
    "colab": {
     "base_uri": "https://localhost:8080/"
    },
    "id": "X58Ak1nFiasi",
    "outputId": "59b3440a-cfb4-46ac-e659-686d0e1f726c"
   },
   "outputs": [],
   "source": [
    "!pip install arxiv"
   ]
  },
  {
   "cell_type": "code",
   "execution_count": null,
   "metadata": {
    "id": "gk7PgqmgI_6h"
   },
   "outputs": [],
   "source": [
    "import arxiv\n",
    "import pandas as pd"
   ]
  },
  {
   "cell_type": "code",
   "execution_count": null,
   "metadata": {
    "colab": {
     "base_uri": "https://localhost:8080/",
     "height": 1000
    },
    "id": "hLYntEV4JVYx",
    "outputId": "c681166a-2969-4f5d-8f53-1e10809045df"
   },
   "outputs": [],
   "source": [
    "# Query to fetch AI-related papers\n",
    "query = 'ai OR artificial intelligence OR machine learning'\n",
    "search = arxiv.Search(query=query, max_results=10, sort_by=arxiv.SortCriterion.SubmittedDate)\n",
    "\n",
    "# Fetch papers\n",
    "papers = []\n",
    "for result in search.results():\n",
    "    papers.append({\n",
    "      'published': result.published,\n",
    "        'title': result.title,\n",
    "        'abstract': result.summary,\n",
    "        'categories': result.categories\n",
    "    })\n",
    "\n",
    "# Convert to DataFrame\n",
    "df = pd.DataFrame(papers)\n",
    "\n",
    "pd.set_option('display.max_colwidth', None)\n",
    "df.head(10)"
   ]
  },
  {
   "cell_type": "code",
   "execution_count": null,
   "metadata": {
    "colab": {
     "base_uri": "https://localhost:8080/",
     "height": 226,
     "referenced_widgets": [
      "bd1f9df427544ee394ed6bc541bb80e3",
      "308da46e2dd54e169fb138ec6bc318ed",
      "dc95d9e1d7544c44b7c9c39db71f38a1",
      "95db0651833244a4ab3190f42eac43e2",
      "066f532a990f4e7d99e1df12a7640516",
      "3a1dab8ca36c4c36ab2bd0f4e194a6f3",
      "a3ee26e6ae87497ca33210cb92341f02",
      "efc5d32088e347638309cd0cbddba3ad",
      "17b6d1d04bcd4bdea95dffa3050c22a9",
      "5d3c16f9a0814c9fa3ff525f0655561c",
      "c1df7f94640342fbad9acbfa0b7814d3",
      "19c804110f9d46ef93c122920501a76b",
      "a1980d994fe647acb2f2ce0bb5aae27b",
      "9c3baa2fbae04fb5bdc320c1aea815d4",
      "399d0c5f3c164ffaaac7fc6f237292c5",
      "19a5fd0d1d18413bac8d85d33eae3f46",
      "73eb6be5d5904beeaf4539bcd911ca85",
      "d1b6a5b74a5c4ae0aba7687fc45ea315",
      "81fe8432b5704a378af5fdea2d815af4",
      "6d4c36b6033c4f44aa8cac58c0f006b0",
      "4645e6c294b046be95a12bc7833614bb",
      "a9a354c8ecd14f97988b2188505246db",
      "d80accf23e714e1abdf05adba024346d",
      "93bf8a8285224b8bb98606ff9c0ba180",
      "9beb4f71451545648d5f4f6151d989df",
      "084176dccc754929b0e303da7464e40a",
      "e7c2d92c59fb4c30a27beef195aec4dc",
      "737a6b94aaba41aca571191320c6317f",
      "69e4cc22db444e589ca03b4ae843884b",
      "8c45cc9bd1e14024867fa7a01fe6f786",
      "72b7e83c05a54973837c7d7a35d05406",
      "196e22aa1a504dbba20417b6cbf561e2",
      "0c685cbc44cb4645b4bbab4fb9c88ab1",
      "6f0abfea6af3463f97855506438bdad9",
      "f61a569dd8d548e1910dfc19db7b1f43",
      "b292799b77564aaba66b05fa6479aec3",
      "060af99cc6bb4a93834f69852dbd9652",
      "94dee60fff2c44ecaf6ba6bcc4cf9874",
      "614d38b30df9457195d7fdbde40cbee8",
      "52884292d63b41cfa559c499b8bc1d0c",
      "72a1ae4c93fa484bbed815b791e8a12d",
      "a5b77e0ad17d47ad9ae3236e986134c9",
      "c0fee4d3a3cb44ea95eada6585faedf3",
      "435e6282f3bc448ca6822fec2f853844",
      "4d7f508afe4d41d9a8578b1bde82d896",
      "da196e697f4b4f54899f3a78140338f3",
      "fe9b0d3fc9044f24ac9976aeeb7b1339",
      "c4e82e86dff940d8938992ec66c60eba",
      "dd2924b4f08549eea2c18d3f6fe7fff8",
      "746952a74d644333b971d7e31fa86889",
      "a303cb41f1cb4ffe9c0973e9674de78e",
      "fa6af9259c424412a0deed002a8cc719",
      "247740f17939412889bb010e390bebc9",
      "41e5a8157870404181bd5907697548ba",
      "afb87fec38fa480ea4e3093378bdebb1",
      "5afb0ae3e9c34ac9af74859ed3d596e4",
      "6a5dbf228d4f4851a82638acf3206f35",
      "670ffb4a7e304b009d65c977d6b1bd39",
      "dd5e78c728a8449ea00831cecb43356c",
      "0aa316d070db46ffb3f13973c4b061af",
      "377d5defcb374531b64adf7df789ed62",
      "de846915f84745d68aa7778c441a52b0",
      "2d5049ede067484cb9ab9ae26ed6a4a1",
      "18885955188f425da4fe50d5919de9c0",
      "5cecbdd32f7e4424aff1942fa4b40cc7",
      "c826dc4321694a1aa3883c71e1b3afdf"
     ]
    },
    "id": "jYL4gtdWK7-W",
    "outputId": "e239f9b6-3905-4b2c-ac45-f9bd0968aaee"
   },
   "outputs": [],
   "source": [
    "# Example abstract from API\n",
    "abstract = df['abstract'][0]\n",
    "\n",
    "summarizer = pipeline(\"summarization\", model=\"facebook/bart-large-cnn\")\n",
    "\n",
    "# Summarization\n",
    "summarization_result = summarizer(abstract)"
   ]
  },
  {
   "cell_type": "code",
   "execution_count": null,
   "metadata": {
    "colab": {
     "base_uri": "https://localhost:8080/",
     "height": 70
    },
    "id": "4YqQRsGh20Gu",
    "outputId": "49209ec2-5362-453a-a98e-fa29f43c56e0"
   },
   "outputs": [],
   "source": [
    "summarization_result[0]['summary_text']"
   ]
  },
  {
   "cell_type": "code",
   "execution_count": null,
   "metadata": {
    "id": "bab3lu5lmrHk"
   },
   "outputs": [],
   "source": []
  }
 ],
 "metadata": {
  "accelerator": "GPU",
  "colab": {
   "gpuType": "T4",
   "provenance": []
  },
  "kernelspec": {
   "display_name": "Python 3",
   "name": "python3"
  },
  "language_info": {
   "name": "python"
  }
 },
 "nbformat": 4,
 "nbformat_minor": 0
}
